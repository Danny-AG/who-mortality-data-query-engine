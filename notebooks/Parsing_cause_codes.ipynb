{
 "cells": [
  {
   "cell_type": "markdown",
   "metadata": {},
   "source": [
    "# Generate cause codes dict for ICD10 condensed codes"
   ]
  },
  {
   "cell_type": "code",
   "execution_count": 43,
   "metadata": {},
   "outputs": [],
   "source": [
    "import csv\n",
    "\n",
    "def get_icd10_condensed_cause_code_dict():\n",
    "    cause_codes_path = \"/home/danny/git/who-mortality-data-query-engine/resources\" + r\"/who-mortality/ICD10_list_101_103_cause_codes.csv\"\n",
    "    cc_dict = {}\n",
    "    with open(cause_codes_path, 'r', encoding='utf-8') as f:\n",
    "        csv_reader = csv.reader(f, delimiter=',')\n",
    "        next(csv_reader, None)\n",
    "        for row in csv_reader:\n",
    "            cc_dict[row[0]] = row[2]\n",
    "    return cc_dict"
   ]
  },
  {
   "cell_type": "markdown",
   "metadata": {},
   "source": [
    "# Generate cause codes dict for ICD10 3 character codes"
   ]
  },
  {
   "cell_type": "markdown",
   "metadata": {},
   "source": [
    "Annex table 2, Field \"List\", states that the value in the List column dictates whether the 'code' or 'Detailed List Numbers' values are used from Table 8"
   ]
  },
  {
   "cell_type": "code",
   "execution_count": 44,
   "metadata": {},
   "outputs": [],
   "source": [
    "import re\n",
    "cause_code_split_regex = re.compile(r\"([A-Z]{1})([0-9]{2})\")\n",
    "ranged_cause_code_validity_regex = re.compile(r\"[A-Z]{1}[0-9]{2}-[A-Z]{1}[0-9]{2}\")\n",
    "\n",
    "def extract_char_numeral_pair(code_str):\n",
    "    match = cause_code_split_regex.match(code_str)\n",
    "    if match:\n",
    "        return match.groups()\n",
    "    else:\n",
    "        raise ValueError(f\"Unable to extract char and numeral from {code_str}\")"
   ]
  },
  {
   "cell_type": "code",
   "execution_count": 45,
   "metadata": {},
   "outputs": [],
   "source": [
    "def code_range_str_to_list(cause_code_range_str):\n",
    "    if ranged_cause_code_validity_regex.match(cause_code_range_str) is None:\n",
    "        return [cause_code_range_str]\n",
    "    \n",
    "    start_code, end_code = cause_code_range_str.split('-')\n",
    "    \n",
    "    try:\n",
    "        start_char, start_num = extract_char_numeral_pair(start_code)\n",
    "        end_char, end_num = extract_char_numeral_pair(end_code)\n",
    "    except ValueError as e:\n",
    "        print(f\"Failed to generate list between codes {start_code} and {end_code}.\\n{e}\")\n",
    "        raise\n",
    "    \n",
    "    output_list = []\n",
    "    \n",
    "    current_char = start_char\n",
    "    current_num = int(start_num)\n",
    "    output_list.append(current_char + str(current_num).zfill(2))\n",
    "    while True:\n",
    "        current_num += 1\n",
    "        if current_num >= 100:\n",
    "            current_num = 1\n",
    "            current_char = chr(ord(current_char)+1)\n",
    "            \n",
    "        output_list.append(current_char + str(current_num).zfill(2))\n",
    "        if current_char == end_char and str(current_num).zfill(2) == end_num:\n",
    "            break\n",
    "    \n",
    "    return output_list"
   ]
  },
  {
   "cell_type": "code",
   "execution_count": 46,
   "metadata": {},
   "outputs": [],
   "source": [
    "def detailed_code_str_to_list(detailed_list_numbers_str):\n",
    "    \n",
    "    codes = []\n",
    "    for code_range_str in detailed_list_numbers_str.replace(' ', '').split(','):\n",
    "        codes.extend(code_range_str_to_list(code_range_str))\n",
    "    \n",
    "    return codes"
   ]
  },
  {
   "cell_type": "code",
   "execution_count": 47,
   "metadata": {},
   "outputs": [],
   "source": [
    "def get_icd10_3_char_cause_code_dict():\n",
    "    cause_codes_path = \"/home/danny/git/who-mortality-data-query-engine/resources\" + r\"/who-mortality/ICD10_list_101_103_cause_codes.csv\"\n",
    "    cause_codes_df = pd.read_csv(cause_codes_path, dtype={'code': int,\n",
    "                                                     'Detailed List Numbers': str,\n",
    "                                                     'Cause': str}).rename(columns={'Detailed List Numbers': 'detailed_codes',\n",
    "                                                                                   'Cause': 'cause'})\n",
    "    \n",
    "    cause_codes_df['detailed_codes'] = cause_codes_df[cause_codes_df['detailed_codes'].notna()]['detailed_codes'].apply(detailed_code_str_to_list)\n",
    "    \n",
    "    detailed_code_cause_dict = {}\n",
    "    for row in cause_codes_df[cause_codes_df['detailed_codes'].notna()].itertuples():\n",
    "        for code in row.detailed_codes:\n",
    "            detailed_code_cause_dict[code] = row.cause\n",
    "    \n",
    "    return detailed_code_cause_dict"
   ]
  },
  {
   "cell_type": "markdown",
   "metadata": {},
   "source": [
    "# Generate cause codes for ICD 10 special list for Portugal - data for 2004-2005"
   ]
  },
  {
   "cell_type": "code",
   "execution_count": 48,
   "metadata": {},
   "outputs": [],
   "source": [
    "def get_icd10_portugal_condensed_cause_code_dict():\n",
    "    cause_codes_path = \"/home/danny/git/who-mortality-data-query-engine/resources\" + r\"/who-mortality/ICD10_list_UE1_cause_codes.csv\"\n",
    "\n",
    "    cc_dict = {}\n",
    "    with open(cause_codes_path, 'r', encoding='utf-8') as f:\n",
    "        csv_reader = csv.reader(f, delimiter=',')\n",
    "        next(csv_reader, None)\n",
    "        for row in csv_reader:\n",
    "            cc_dict[row[0]] = row[2]\n",
    "    return cc_dict"
   ]
  },
  {
   "cell_type": "markdown",
   "metadata": {},
   "source": [
    "# Update mortality data cause codes with relevant mapping"
   ]
  },
  {
   "cell_type": "markdown",
   "metadata": {},
   "source": [
    "### Read in mortality rates data"
   ]
  },
  {
   "cell_type": "code",
   "execution_count": 49,
   "metadata": {},
   "outputs": [
    {
     "data": {
      "text/html": [
       "<div>\n",
       "<style scoped>\n",
       "    .dataframe tbody tr th:only-of-type {\n",
       "        vertical-align: middle;\n",
       "    }\n",
       "\n",
       "    .dataframe tbody tr th {\n",
       "        vertical-align: top;\n",
       "    }\n",
       "\n",
       "    .dataframe thead th {\n",
       "        text-align: right;\n",
       "    }\n",
       "</style>\n",
       "<table border=\"1\" class=\"dataframe\">\n",
       "  <thead>\n",
       "    <tr style=\"text-align: right;\">\n",
       "      <th></th>\n",
       "      <th>Country</th>\n",
       "      <th>Admin1</th>\n",
       "      <th>SubDiv</th>\n",
       "      <th>Year</th>\n",
       "      <th>List</th>\n",
       "      <th>Cause</th>\n",
       "      <th>Sex</th>\n",
       "      <th>Frmat</th>\n",
       "      <th>IM_Frmat</th>\n",
       "      <th>Deaths1</th>\n",
       "      <th>...</th>\n",
       "      <th>Deaths21</th>\n",
       "      <th>Deaths22</th>\n",
       "      <th>Deaths23</th>\n",
       "      <th>Deaths24</th>\n",
       "      <th>Deaths25</th>\n",
       "      <th>Deaths26</th>\n",
       "      <th>IM_Deaths1</th>\n",
       "      <th>IM_Deaths2</th>\n",
       "      <th>IM_Deaths3</th>\n",
       "      <th>IM_Deaths4</th>\n",
       "    </tr>\n",
       "  </thead>\n",
       "  <tbody>\n",
       "    <tr>\n",
       "      <th>0</th>\n",
       "      <td>1400</td>\n",
       "      <td>NaN</td>\n",
       "      <td>NaN</td>\n",
       "      <td>2001</td>\n",
       "      <td>101</td>\n",
       "      <td>1000</td>\n",
       "      <td>1</td>\n",
       "      <td>7</td>\n",
       "      <td>8</td>\n",
       "      <td>332</td>\n",
       "      <td>...</td>\n",
       "      <td>95.0</td>\n",
       "      <td>NaN</td>\n",
       "      <td>NaN</td>\n",
       "      <td>NaN</td>\n",
       "      <td>NaN</td>\n",
       "      <td>0.0</td>\n",
       "      <td>8.0</td>\n",
       "      <td>NaN</td>\n",
       "      <td>NaN</td>\n",
       "      <td>NaN</td>\n",
       "    </tr>\n",
       "    <tr>\n",
       "      <th>1</th>\n",
       "      <td>1400</td>\n",
       "      <td>NaN</td>\n",
       "      <td>NaN</td>\n",
       "      <td>2001</td>\n",
       "      <td>101</td>\n",
       "      <td>1000</td>\n",
       "      <td>2</td>\n",
       "      <td>7</td>\n",
       "      <td>8</td>\n",
       "      <td>222</td>\n",
       "      <td>...</td>\n",
       "      <td>112.0</td>\n",
       "      <td>NaN</td>\n",
       "      <td>NaN</td>\n",
       "      <td>NaN</td>\n",
       "      <td>NaN</td>\n",
       "      <td>0.0</td>\n",
       "      <td>11.0</td>\n",
       "      <td>NaN</td>\n",
       "      <td>NaN</td>\n",
       "      <td>NaN</td>\n",
       "    </tr>\n",
       "    <tr>\n",
       "      <th>2</th>\n",
       "      <td>1400</td>\n",
       "      <td>NaN</td>\n",
       "      <td>NaN</td>\n",
       "      <td>2001</td>\n",
       "      <td>101</td>\n",
       "      <td>1001</td>\n",
       "      <td>1</td>\n",
       "      <td>7</td>\n",
       "      <td>8</td>\n",
       "      <td>24</td>\n",
       "      <td>...</td>\n",
       "      <td>5.0</td>\n",
       "      <td>NaN</td>\n",
       "      <td>NaN</td>\n",
       "      <td>NaN</td>\n",
       "      <td>NaN</td>\n",
       "      <td>0.0</td>\n",
       "      <td>0.0</td>\n",
       "      <td>NaN</td>\n",
       "      <td>NaN</td>\n",
       "      <td>NaN</td>\n",
       "    </tr>\n",
       "    <tr>\n",
       "      <th>3</th>\n",
       "      <td>1400</td>\n",
       "      <td>NaN</td>\n",
       "      <td>NaN</td>\n",
       "      <td>2001</td>\n",
       "      <td>101</td>\n",
       "      <td>1001</td>\n",
       "      <td>2</td>\n",
       "      <td>7</td>\n",
       "      <td>8</td>\n",
       "      <td>14</td>\n",
       "      <td>...</td>\n",
       "      <td>6.0</td>\n",
       "      <td>NaN</td>\n",
       "      <td>NaN</td>\n",
       "      <td>NaN</td>\n",
       "      <td>NaN</td>\n",
       "      <td>0.0</td>\n",
       "      <td>0.0</td>\n",
       "      <td>NaN</td>\n",
       "      <td>NaN</td>\n",
       "      <td>NaN</td>\n",
       "    </tr>\n",
       "    <tr>\n",
       "      <th>4</th>\n",
       "      <td>1400</td>\n",
       "      <td>NaN</td>\n",
       "      <td>NaN</td>\n",
       "      <td>2001</td>\n",
       "      <td>101</td>\n",
       "      <td>1002</td>\n",
       "      <td>1</td>\n",
       "      <td>7</td>\n",
       "      <td>8</td>\n",
       "      <td>0</td>\n",
       "      <td>...</td>\n",
       "      <td>0.0</td>\n",
       "      <td>NaN</td>\n",
       "      <td>NaN</td>\n",
       "      <td>NaN</td>\n",
       "      <td>NaN</td>\n",
       "      <td>0.0</td>\n",
       "      <td>0.0</td>\n",
       "      <td>NaN</td>\n",
       "      <td>NaN</td>\n",
       "      <td>NaN</td>\n",
       "    </tr>\n",
       "  </tbody>\n",
       "</table>\n",
       "<p>5 rows × 39 columns</p>\n",
       "</div>"
      ],
      "text/plain": [
       "   Country  Admin1  SubDiv  Year List Cause  Sex  Frmat  IM_Frmat  Deaths1  \\\n",
       "0     1400     NaN     NaN  2001  101  1000    1      7         8      332   \n",
       "1     1400     NaN     NaN  2001  101  1000    2      7         8      222   \n",
       "2     1400     NaN     NaN  2001  101  1001    1      7         8       24   \n",
       "3     1400     NaN     NaN  2001  101  1001    2      7         8       14   \n",
       "4     1400     NaN     NaN  2001  101  1002    1      7         8        0   \n",
       "\n",
       "   ...  Deaths21  Deaths22  Deaths23  Deaths24  Deaths25  Deaths26  \\\n",
       "0  ...      95.0       NaN       NaN       NaN       NaN       0.0   \n",
       "1  ...     112.0       NaN       NaN       NaN       NaN       0.0   \n",
       "2  ...       5.0       NaN       NaN       NaN       NaN       0.0   \n",
       "3  ...       6.0       NaN       NaN       NaN       NaN       0.0   \n",
       "4  ...       0.0       NaN       NaN       NaN       NaN       0.0   \n",
       "\n",
       "   IM_Deaths1  IM_Deaths2  IM_Deaths3  IM_Deaths4  \n",
       "0         8.0         NaN         NaN         NaN  \n",
       "1        11.0         NaN         NaN         NaN  \n",
       "2         0.0         NaN         NaN         NaN  \n",
       "3         0.0         NaN         NaN         NaN  \n",
       "4         0.0         NaN         NaN         NaN  \n",
       "\n",
       "[5 rows x 39 columns]"
      ]
     },
     "execution_count": 49,
     "metadata": {},
     "output_type": "execute_result"
    }
   ],
   "source": [
    "import pandas as pd\n",
    "\n",
    "who_mortality_rates_name = \"~/git/who-mortality-data-query-engine/ingest/Morticd10_part1\"\n",
    "mortality_pt1_df = pd.read_csv(who_mortality_rates_name, dtype={'Country': int,\n",
    "                                                                'Year': int,\n",
    "                                                                'Sex': int,\n",
    "                                                                'Deaths1': int})\n",
    "mortality_pt1_df.head()"
   ]
  },
  {
   "cell_type": "markdown",
   "metadata": {},
   "source": [
    "### Check which cause code revisions need updating"
   ]
  },
  {
   "cell_type": "code",
   "execution_count": 50,
   "metadata": {},
   "outputs": [
    {
     "data": {
      "text/plain": [
       "array([101, 103, 104, '104', '10M', 'UE1', '103'], dtype=object)"
      ]
     },
     "execution_count": 50,
     "metadata": {},
     "output_type": "execute_result"
    }
   ],
   "source": [
    "mortality_pt1_df.loc[:, 'List'].unique()"
   ]
  },
  {
   "cell_type": "markdown",
   "metadata": {},
   "source": [
    "The above list of unique List's shows that sometimes integer ICD versions have been listed as strings, e.g. '103' instead of 103, and hence these rows have been missed during conversion. To rectify this, such rows will need their List value cleaning to be of the appropriate type ahead of mapping."
   ]
  },
  {
   "cell_type": "markdown",
   "metadata": {},
   "source": [
    "### Apply condensed cause codes to List=101 rows"
   ]
  },
  {
   "cell_type": "code",
   "execution_count": 51,
   "metadata": {},
   "outputs": [],
   "source": [
    "icd10_condensed_cause_code_dict = get_icd10_condensed_cause_code_dict()"
   ]
  },
  {
   "cell_type": "code",
   "execution_count": 52,
   "metadata": {},
   "outputs": [
    {
     "data": {
      "text/html": [
       "<div>\n",
       "<style scoped>\n",
       "    .dataframe tbody tr th:only-of-type {\n",
       "        vertical-align: middle;\n",
       "    }\n",
       "\n",
       "    .dataframe tbody tr th {\n",
       "        vertical-align: top;\n",
       "    }\n",
       "\n",
       "    .dataframe thead th {\n",
       "        text-align: right;\n",
       "    }\n",
       "</style>\n",
       "<table border=\"1\" class=\"dataframe\">\n",
       "  <thead>\n",
       "    <tr style=\"text-align: right;\">\n",
       "      <th></th>\n",
       "      <th>Country</th>\n",
       "      <th>Admin1</th>\n",
       "      <th>SubDiv</th>\n",
       "      <th>Year</th>\n",
       "      <th>List</th>\n",
       "      <th>Cause</th>\n",
       "      <th>Sex</th>\n",
       "      <th>Frmat</th>\n",
       "      <th>IM_Frmat</th>\n",
       "      <th>Deaths1</th>\n",
       "      <th>...</th>\n",
       "      <th>Deaths21</th>\n",
       "      <th>Deaths22</th>\n",
       "      <th>Deaths23</th>\n",
       "      <th>Deaths24</th>\n",
       "      <th>Deaths25</th>\n",
       "      <th>Deaths26</th>\n",
       "      <th>IM_Deaths1</th>\n",
       "      <th>IM_Deaths2</th>\n",
       "      <th>IM_Deaths3</th>\n",
       "      <th>IM_Deaths4</th>\n",
       "    </tr>\n",
       "  </thead>\n",
       "  <tbody>\n",
       "    <tr>\n",
       "      <th>0</th>\n",
       "      <td>1400</td>\n",
       "      <td>NaN</td>\n",
       "      <td>NaN</td>\n",
       "      <td>2001</td>\n",
       "      <td>101</td>\n",
       "      <td>All causes</td>\n",
       "      <td>1</td>\n",
       "      <td>7</td>\n",
       "      <td>8</td>\n",
       "      <td>332</td>\n",
       "      <td>...</td>\n",
       "      <td>95.0</td>\n",
       "      <td>NaN</td>\n",
       "      <td>NaN</td>\n",
       "      <td>NaN</td>\n",
       "      <td>NaN</td>\n",
       "      <td>0.0</td>\n",
       "      <td>8.0</td>\n",
       "      <td>NaN</td>\n",
       "      <td>NaN</td>\n",
       "      <td>NaN</td>\n",
       "    </tr>\n",
       "    <tr>\n",
       "      <th>1</th>\n",
       "      <td>1400</td>\n",
       "      <td>NaN</td>\n",
       "      <td>NaN</td>\n",
       "      <td>2001</td>\n",
       "      <td>101</td>\n",
       "      <td>All causes</td>\n",
       "      <td>2</td>\n",
       "      <td>7</td>\n",
       "      <td>8</td>\n",
       "      <td>222</td>\n",
       "      <td>...</td>\n",
       "      <td>112.0</td>\n",
       "      <td>NaN</td>\n",
       "      <td>NaN</td>\n",
       "      <td>NaN</td>\n",
       "      <td>NaN</td>\n",
       "      <td>0.0</td>\n",
       "      <td>11.0</td>\n",
       "      <td>NaN</td>\n",
       "      <td>NaN</td>\n",
       "      <td>NaN</td>\n",
       "    </tr>\n",
       "    <tr>\n",
       "      <th>2</th>\n",
       "      <td>1400</td>\n",
       "      <td>NaN</td>\n",
       "      <td>NaN</td>\n",
       "      <td>2001</td>\n",
       "      <td>101</td>\n",
       "      <td>Certain infectious and parasitic diseases</td>\n",
       "      <td>1</td>\n",
       "      <td>7</td>\n",
       "      <td>8</td>\n",
       "      <td>24</td>\n",
       "      <td>...</td>\n",
       "      <td>5.0</td>\n",
       "      <td>NaN</td>\n",
       "      <td>NaN</td>\n",
       "      <td>NaN</td>\n",
       "      <td>NaN</td>\n",
       "      <td>0.0</td>\n",
       "      <td>0.0</td>\n",
       "      <td>NaN</td>\n",
       "      <td>NaN</td>\n",
       "      <td>NaN</td>\n",
       "    </tr>\n",
       "    <tr>\n",
       "      <th>3</th>\n",
       "      <td>1400</td>\n",
       "      <td>NaN</td>\n",
       "      <td>NaN</td>\n",
       "      <td>2001</td>\n",
       "      <td>101</td>\n",
       "      <td>Certain infectious and parasitic diseases</td>\n",
       "      <td>2</td>\n",
       "      <td>7</td>\n",
       "      <td>8</td>\n",
       "      <td>14</td>\n",
       "      <td>...</td>\n",
       "      <td>6.0</td>\n",
       "      <td>NaN</td>\n",
       "      <td>NaN</td>\n",
       "      <td>NaN</td>\n",
       "      <td>NaN</td>\n",
       "      <td>0.0</td>\n",
       "      <td>0.0</td>\n",
       "      <td>NaN</td>\n",
       "      <td>NaN</td>\n",
       "      <td>NaN</td>\n",
       "    </tr>\n",
       "    <tr>\n",
       "      <th>4</th>\n",
       "      <td>1400</td>\n",
       "      <td>NaN</td>\n",
       "      <td>NaN</td>\n",
       "      <td>2001</td>\n",
       "      <td>101</td>\n",
       "      <td>Cholera</td>\n",
       "      <td>1</td>\n",
       "      <td>7</td>\n",
       "      <td>8</td>\n",
       "      <td>0</td>\n",
       "      <td>...</td>\n",
       "      <td>0.0</td>\n",
       "      <td>NaN</td>\n",
       "      <td>NaN</td>\n",
       "      <td>NaN</td>\n",
       "      <td>NaN</td>\n",
       "      <td>0.0</td>\n",
       "      <td>0.0</td>\n",
       "      <td>NaN</td>\n",
       "      <td>NaN</td>\n",
       "      <td>NaN</td>\n",
       "    </tr>\n",
       "  </tbody>\n",
       "</table>\n",
       "<p>5 rows × 39 columns</p>\n",
       "</div>"
      ],
      "text/plain": [
       "   Country  Admin1  SubDiv  Year List  \\\n",
       "0     1400     NaN     NaN  2001  101   \n",
       "1     1400     NaN     NaN  2001  101   \n",
       "2     1400     NaN     NaN  2001  101   \n",
       "3     1400     NaN     NaN  2001  101   \n",
       "4     1400     NaN     NaN  2001  101   \n",
       "\n",
       "                                       Cause  Sex  Frmat  IM_Frmat  Deaths1  \\\n",
       "0                                 All causes    1      7         8      332   \n",
       "1                                 All causes    2      7         8      222   \n",
       "2  Certain infectious and parasitic diseases    1      7         8       24   \n",
       "3  Certain infectious and parasitic diseases    2      7         8       14   \n",
       "4                                    Cholera    1      7         8        0   \n",
       "\n",
       "   ...  Deaths21  Deaths22  Deaths23  Deaths24  Deaths25  Deaths26  \\\n",
       "0  ...      95.0       NaN       NaN       NaN       NaN       0.0   \n",
       "1  ...     112.0       NaN       NaN       NaN       NaN       0.0   \n",
       "2  ...       5.0       NaN       NaN       NaN       NaN       0.0   \n",
       "3  ...       6.0       NaN       NaN       NaN       NaN       0.0   \n",
       "4  ...       0.0       NaN       NaN       NaN       NaN       0.0   \n",
       "\n",
       "   IM_Deaths1  IM_Deaths2  IM_Deaths3  IM_Deaths4  \n",
       "0         8.0         NaN         NaN         NaN  \n",
       "1        11.0         NaN         NaN         NaN  \n",
       "2         0.0         NaN         NaN         NaN  \n",
       "3         0.0         NaN         NaN         NaN  \n",
       "4         0.0         NaN         NaN         NaN  \n",
       "\n",
       "[5 rows x 39 columns]"
      ]
     },
     "execution_count": 52,
     "metadata": {},
     "output_type": "execute_result"
    }
   ],
   "source": [
    "mortality_pt1_df.loc[mortality_pt1_df['List'] == 101, 'Cause'] = mortality_pt1_df.loc[mortality_pt1_df['List'] == 101, 'Cause'].map(icd10_condensed_cause_code_dict)\n",
    "mortality_pt1_df.head()"
   ]
  },
  {
   "cell_type": "markdown",
   "metadata": {},
   "source": [
    "### Apply ICD(revision 3) cause codes to List=103 rows\n",
    "These are indicated by having a List value of 103.\n",
    "They are typically in the format of 1 character followed by two numberals, e.g. A01"
   ]
  },
  {
   "cell_type": "code",
   "execution_count": 54,
   "metadata": {},
   "outputs": [],
   "source": [
    "icd10_3_char_cause_code_dict = get_icd10_3_char_cause_code_dict()"
   ]
  },
  {
   "cell_type": "code",
   "execution_count": 55,
   "metadata": {},
   "outputs": [
    {
     "data": {
      "text/plain": [
       "1388101    All other external causes\n",
       "1388102    All other external causes\n",
       "1388103    All other external causes\n",
       "1388104    All other external causes\n",
       "1388105    All other external causes\n",
       "Name: Cause, dtype: object"
      ]
     },
     "execution_count": 55,
     "metadata": {},
     "output_type": "execute_result"
    }
   ],
   "source": [
    "mortality_pt1_df.loc[mortality_pt1_df['List'] == '103', 'List'] = 103\n",
    "mortality_pt1_df.loc[mortality_pt1_df['List'] == 103, 'Cause'] = mortality_pt1_df.loc[mortality_pt1_df['List'] == 103, 'Cause'].map(icd10_3_char_cause_code_dict)\n",
    "mortality_pt1_df.loc[mortality_pt1_df['List'] == 103, 'Cause'].tail()"
   ]
  },
  {
   "cell_type": "markdown",
   "metadata": {},
   "source": [
    "### Apply ICD10(revision 4) cause codes to List=104 rows\n",
    "These are indicated by having a List value of 104.\n",
    "They are typically in the format of 1 character followed by three numerals, e.g. A010\n",
    "Detailed cause codes for ICD 10 can be viewed here - https://icd.who.int/browse10/2019/en\n",
    "\n",
    "The additional numeral can be interpreted as a subset of the cause indicated by the previous character and numbers. For example:\n",
    "A01 = \"Typhoid and paratyphoid fevers\"\n",
    "A01.2 = \"Paratyphoid fever B\" \n",
    "\n",
    "For the purposes of this project, this level of granularity is not necessary therefore all suffix's will be ignored and the code will resolve to parent category, i.e. A012 will be converted to \"Typhoid and paratyphoid fevers\""
   ]
  },
  {
   "cell_type": "code",
   "execution_count": 56,
   "metadata": {},
   "outputs": [],
   "source": [
    "mortality_pt1_df.loc[mortality_pt1_df['List'] == '104', 'List'] = 104\n",
    "mortality_pt1_df.loc[mortality_pt1_df['List'] == 104, 'Cause'] = mortality_pt1_df.loc[mortality_pt1_df['List'] == 104, 'Cause'].map(lambda x: x[:3]).map(icd10_3_char_cause_code_dict)"
   ]
  },
  {
   "cell_type": "markdown",
   "metadata": {},
   "source": [
    "## Apply ICD10(revision M) cause codes to List=10M rows\n",
    "These are indicated by having a List value of 10M.\n",
    "They are typically in the format of 1 character followed by three numerals, e.g. A010\n",
    "Detailed cause codes for ICD 10 can be viewed here - https://icd.who.int/browse10/2019/en\n",
    "\n",
    "The additional numeral can be interpreted as a subset of the cause indicated by the previous character and numbers. For example:\n",
    "A01 = \"Typhoid and paratyphoid fevers\"\n",
    "A01.2 = \"Paratyphoid fever B\" \n",
    "\n",
    "For the purposes of this project, this level of granularity is not necessary therefore all suffix's will be ignored and the code will resolve to parent category, i.e. A012 will be converted to \"Typhoid and paratyphoid fevers\""
   ]
  },
  {
   "cell_type": "code",
   "execution_count": 57,
   "metadata": {},
   "outputs": [],
   "source": [
    "mortality_pt1_df.loc[mortality_pt1_df['List'] == '10M', 'Cause'] = mortality_pt1_df.loc[mortality_pt1_df['List'] == '10M', 'Cause'].map(lambda x: x[:3]).map(icd10_3_char_cause_code_dict)"
   ]
  },
  {
   "cell_type": "markdown",
   "metadata": {},
   "source": [
    "## Apply ICD10(revision UE1) Portugal cause codes to List=UE1 rows"
   ]
  },
  {
   "cell_type": "code",
   "execution_count": 58,
   "metadata": {},
   "outputs": [
    {
     "data": {
      "text/plain": [
       "array(['CH00', 'CH01', 'UE02', 'UE04', 'UE05', 'CH02', 'UE07', 'UE08',\n",
       "       'UE09', 'UE10', 'UE11', 'UE12', 'UE13', 'UE14', 'UE15', 'UE16',\n",
       "       'UE17', 'UE18', 'UE19', 'UE20', 'UE21', 'UE22', 'UE23', 'UE24',\n",
       "       'CH03', 'CH04', 'UE27', 'CH05', 'UE29', 'CH06', 'CH07', 'CH08',\n",
       "       'UE32', 'CH09', 'UE34', 'UE35', 'UE36', 'CH10', 'UE39', 'UE40',\n",
       "       'UE41', 'CH11', 'UE43', 'UE44', 'CH12', 'CH13', 'UE47', 'CH14',\n",
       "       'UE49', 'CH15', 'CH16', 'CH17', 'UE53', 'UE54', 'CH18', 'UE57',\n",
       "       'CH20', 'UE59', 'UE60', 'UE61', 'UE62', 'UE63', 'UE64', 'UE65'],\n",
       "      dtype=object)"
      ]
     },
     "execution_count": 58,
     "metadata": {},
     "output_type": "execute_result"
    }
   ],
   "source": [
    "mortality_pt1_df.loc[mortality_pt1_df['List'] == 'UE1']['Cause'].unique()"
   ]
  },
  {
   "cell_type": "markdown",
   "metadata": {},
   "source": [
    "The cause codes corresponding to the List=UE1 rows are all 4 characters, which in the case of the portugal data corresponds to the 'condensed' codes, hence the condensed Portugal cause code dict will be used"
   ]
  },
  {
   "cell_type": "code",
   "execution_count": 59,
   "metadata": {},
   "outputs": [],
   "source": [
    "icd10_portugal_condensed_cause_code_dict = get_icd10_portugal_condensed_cause_code_dict()"
   ]
  },
  {
   "cell_type": "code",
   "execution_count": 60,
   "metadata": {},
   "outputs": [],
   "source": [
    "mortality_pt1_df.loc[mortality_pt1_df['List'] == 'UE1', 'Cause'] = mortality_pt1_df.loc[mortality_pt1_df['List'] == 'UE1', 'Cause'].map(icd10_portugal_condensed_cause_code_dict)"
   ]
  },
  {
   "cell_type": "markdown",
   "metadata": {},
   "source": [
    "### Check what cause codes didn't get replaced"
   ]
  },
  {
   "cell_type": "code",
   "execution_count": 61,
   "metadata": {},
   "outputs": [
    {
     "data": {
      "text/plain": [
       "array([], dtype=object)"
      ]
     },
     "execution_count": 61,
     "metadata": {},
     "output_type": "execute_result"
    }
   ],
   "source": [
    "mortality_pt1_df.loc[mortality_pt1_df['Cause'].str.len() <= 4]['List'].unique()"
   ]
  },
  {
   "cell_type": "markdown",
   "metadata": {},
   "source": [
    "No strings of 4 characters or less remain (the max length for a cause code) so we can consider all cause codes mapped to the corresponding cause of death.\n",
    "\n",
    "A quick check of the mapped causes confirms this"
   ]
  },
  {
   "cell_type": "code",
   "execution_count": 68,
   "metadata": {
    "collapsed": true,
    "jupyter": {
     "outputs_hidden": true
    }
   },
   "outputs": [
    {
     "data": {
      "text/plain": [
       "array(['All causes', 'Certain infectious and parasitic diseases',\n",
       "       'Cholera',\n",
       "       'Diarrhoea and gastroenteritis of presumed infectious origin',\n",
       "       'Other intestinal infectious diseases', 'Respiratory tuberculosis',\n",
       "       'Other tuberculosis', 'Plague', 'Tetanus', 'Diphtheria',\n",
       "       'Whooping cough', 'Meningococcal infection', 'Septicaemia',\n",
       "       'Infections with a predominantly sexual mode of transmission',\n",
       "       'Acute poliomyelitis', 'Rabies', 'Yellow fever',\n",
       "       'Other arthropod-borne viral fevers and viral haemorrhagic fevers',\n",
       "       'Measles', 'Viral hepatitis',\n",
       "       'Human immunodeficiency virus [HIV] disease', 'Malaria',\n",
       "       'Leishmaniasis', 'Trypanosomiasis', 'Schistosomiasis',\n",
       "       'Remainder of certain infectious and parasitic diseases',\n",
       "       'Neoplasms', 'Malignant neoplasm of lip, oral cavity and pharynx',\n",
       "       'Malignant neoplasm of oesophagus',\n",
       "       'Malignant neoplasm of stomach',\n",
       "       'Malignant neoplasm of colon, rectum and anus',\n",
       "       'Malignant neoplasm of liver and intrahepatic bile ducts',\n",
       "       'Malignant neoplasm of pancreas', 'Malignant neoplasm of larynx',\n",
       "       'Malignant neoplasm of trachea, bronchus and lung',\n",
       "       'Malignant melanoma of skin', 'Malignant neoplasm of breast',\n",
       "       'Malignant neoplasm of cervix uteri',\n",
       "       'Malignant neoplasm of other and unspecified parts of uterus',\n",
       "       'Malignant neoplasm of ovary', 'Malignant neoplasm of prostate',\n",
       "       'Malignant neoplasm of bladder',\n",
       "       'Malignant neoplasm of meninges, brain and other parts of central nervous system',\n",
       "       \"Non-Hodgkin's lymphoma\",\n",
       "       'Multiple myeloma and malignant plasma cell neoplasms',\n",
       "       'Leukaemia', 'Remainder of malignant neoplasms',\n",
       "       'Remainder of neoplasms',\n",
       "       'Diseases of the blood and blood-forming organs and certain disorders involving the immune mechanism',\n",
       "       'Anaemias',\n",
       "       'Remainder of diseases of the blood and blood-forming organs and certain disorders involving the immune mechanism',\n",
       "       'Endocrine, nutritional and metabolic diseases',\n",
       "       'Diabetes mellitus', 'Malnutrition',\n",
       "       'Remainder of endocrine, nutritional and metabolic diseases',\n",
       "       'Mental and behavioural disorders',\n",
       "       'Mental and behavioural disorders due to psychoactive substance use',\n",
       "       'Remainder of mental and behavioural disorders',\n",
       "       'Diseases of the nervous system', 'Meningitis',\n",
       "       \"Alzheimer's disease\",\n",
       "       'Remainder of diseases of the nervous system',\n",
       "       'Diseases of the eye and adnexa',\n",
       "       'Diseases of the ear and mastoid process',\n",
       "       'Diseases of the circulatory system',\n",
       "       'Acute rheumatic fever and chronic rheumatic heart diseases',\n",
       "       'Hypertensive diseases', 'Ischaemic heart diseases',\n",
       "       'Other heart diseases', 'Cerebrovascular diseases',\n",
       "       'Atherosclerosis',\n",
       "       'Remainder of diseases of the circulatory system',\n",
       "       'Diseases of the respiratory system', 'Influenza', 'Pneumonia',\n",
       "       'Other acute lower respiratory infections',\n",
       "       'Chronic lower respiratory diseases',\n",
       "       'Remainder of diseases of the respiratory system',\n",
       "       'Diseases of the digestive system', 'Gastric and duodenal ulcer',\n",
       "       'Diseases of the liver',\n",
       "       'Remainder of diseases of the digestive system',\n",
       "       'Diseases of the skin and subcutaneous tissue',\n",
       "       'Diseases of the musculoskeletal system and connective tissue',\n",
       "       'Diseases of the genitourinary system',\n",
       "       'Glomerular and renal tubulo-interstitial diseases',\n",
       "       'Remainder of diseases of the genitourinary system',\n",
       "       'Pregnancy, childbirth and the puerperium',\n",
       "       'Pregnancy with abortive outcome', 'Other direct obstetric deaths',\n",
       "       'Indirect obstetric deaths',\n",
       "       'Remainder of pregnancy, childbirth and the puerperium',\n",
       "       'Certain conditions originating in the perinatal period',\n",
       "       'Congenital malformations, deformations and chromosomal abnormalities',\n",
       "       'Symptoms, signs and abnormal clinical and laboratory findings, not elsewhere classified',\n",
       "       'External causes of morbidity and mortality',\n",
       "       'Transport accidents', 'Falls',\n",
       "       'Accidental drowning and submersion',\n",
       "       'Exposure to smoke, fire and flames',\n",
       "       'Accidental poisoning by and exposure to noxious substances',\n",
       "       'Intentional self-harm', 'Assault', 'All other external causes',\n",
       "       nan, 'ALL CAUSES OF DEATH',\n",
       "       'CERTAIN INFECTIOUS  AND PARASITIC DISEASES ', 'Tuberculosis',\n",
       "       'AIDS (HIV disease) ', 'NEOPLASMS', 'Malignant neoplasms',\n",
       "       'of which malignant neoplasm of lip, oral cavity, pharynx',\n",
       "       'of which malignant neoplasm of oesophagus',\n",
       "       'of which malignant neoplasm of stomach',\n",
       "       'of which malignant neoplasm of colon',\n",
       "       'of which malignant neoplasm of rectum and anus',\n",
       "       'of which malignant neoplasm of liver and the intrahepatic bile ducts',\n",
       "       'of which malignant neoplasm of pancreas',\n",
       "       'of which malignant neoplasm of larynx and trachea/bronchus/lung',\n",
       "       'of which malignant neoplasm of skin',\n",
       "       'of which malignant neoplasm of breast',\n",
       "       'of which malignant neoplasm of cervix uteri',\n",
       "       'of which malignant neoplasm of other parts of uterus',\n",
       "       'of which malignant neoplasm of ovary',\n",
       "       'of which malignant neoplasm of prostate',\n",
       "       'of which malignant neoplasm of kidney',\n",
       "       'of which malignant neoplasm of bladder',\n",
       "       'of which malignant neoplasm of lymph/haematopoietic tissue',\n",
       "       'DISEASES OF THE BLOOD AND BLOOD-FORMING ORGANS AND CERTAIN DISORDERS INVOLVING THE IMMUNE MECHANISM',\n",
       "       'ENDOCRINE,  NUTRITIONAL AND METABOLIC DISEASES',\n",
       "       'MENTAL AND BEHAVIOURAL DISORDERS',\n",
       "       'Mental and behavioural disorders due to the use of alcohol',\n",
       "       'DISEASES OF THE NERVOUS SYSTEM', 'DISEASES OF THE EYE AND ADNEXA',\n",
       "       'DISEASES OF THE EAR AND MASTOID PROCESS',\n",
       "       'Meningitis (other than A39)',\n",
       "       'DISEASES OF THE CIRCULATORY SYSTEM',\n",
       "       'DISEASES OF THE RESPIRATORY SYSTEM', 'of which asthma',\n",
       "       'DISEASES OF THE DIGESTIVE SYSTEM',\n",
       "       'Ulcer of the stomach, duodenum and jejunum',\n",
       "       'Chronic liver disease',\n",
       "       'DISEASES OF THE SKIN AND SUBCUTANEOUS TISSUE',\n",
       "       'DISEASES OF THE MUSCULOSKELETAL SYSTEM/CONNECTIVE TISSUE',\n",
       "       'Rheumatoid arthritis and osteoarthrosis',\n",
       "       'DISEASES OF THE GENITOURINARY SYSTEM',\n",
       "       'Diseases of the kidney and ureter',\n",
       "       'PREGNANCY, CHILDBIRTH AND THE PUERPERIUM',\n",
       "       'CERTAIN CONDITIONS ORIGINATING IN THE PERINATL PERIOD',\n",
       "       'CONGENITAL MALFORMATIONS, DEFORMATIONS AND CHROMOSOMAL ABNORMALITIES',\n",
       "       'Congenital malformations of the nervous system',\n",
       "       'Congenital malformations of the circulatory system',\n",
       "       'SYMPTOMS, SIGNS AND ABNORMAL CLINICAL AND LABORATORY FINDINGS, NOT ELSEWHERE CLASSIFIED',\n",
       "       'Uknown and unspecified causes',\n",
       "       'EXTERNAL CAUSES OF INJURY AND POISONING', 'Accidents',\n",
       "       'of which transport accidents', 'of which accidental falls',\n",
       "       'of which accidental poisoning',\n",
       "       'Suicide and intentional self-harm', 'Homicide, assault',\n",
       "       'Events of undetermined intent'], dtype=object)"
      ]
     },
     "execution_count": 68,
     "metadata": {},
     "output_type": "execute_result"
    }
   ],
   "source": [
    "mortality_pt1_df['Cause'].unique()"
   ]
  }
 ],
 "metadata": {
  "kernelspec": {
   "display_name": "Python 3",
   "language": "python",
   "name": "python3"
  },
  "language_info": {
   "codemirror_mode": {
    "name": "ipython",
    "version": 3
   },
   "file_extension": ".py",
   "mimetype": "text/x-python",
   "name": "python",
   "nbconvert_exporter": "python",
   "pygments_lexer": "ipython3",
   "version": "3.7.3"
  }
 },
 "nbformat": 4,
 "nbformat_minor": 4
}
